{
 "cells": [
  {
   "cell_type": "markdown",
   "metadata": {
    "nbpresent": {
     "id": "00148eb9-6876-42a8-86f1-b90a80041579"
    }
   },
   "source": [
    "# Machine Learning Capstone Project\n",
    "\n",
    "## SVM Classifier"
   ]
  },
  {
   "cell_type": "markdown",
   "metadata": {},
   "source": [
    "### 1. Import required packages"
   ]
  },
  {
   "cell_type": "code",
   "execution_count": 1,
   "metadata": {
    "nbpresent": {
     "id": "596a410f-2302-4cc1-be5e-10b07c42ef1c"
    }
   },
   "outputs": [],
   "source": [
    "from helper_functions import unpickle, extract_data, load_data\n",
    "import numpy as np\n",
    "from sklearn.svm import SVC\n",
    "from time import time"
   ]
  },
  {
   "cell_type": "markdown",
   "metadata": {},
   "source": [
    "### 2. Extract CIFAR 15"
   ]
  },
  {
   "cell_type": "code",
   "execution_count": 2,
   "metadata": {},
   "outputs": [
    {
     "name": "stdout",
     "output_type": "stream",
     "text": [
      "Training Data Shape  : (7500, 32, 32, 3)\n",
      "Training Label Shape : (7500, 1)\n",
      "Testing Data Shape   : (1500, 32, 32, 3)\n",
      "Testing Label Shape  : (1500, 1)\n"
     ]
    }
   ],
   "source": [
    "(X_train, y_train), (X_test, y_test) = load_data('cifar-15-python', 'fine')\n",
    "print('Training Data Shape  :', X_train.shape)\n",
    "print('Training Label Shape :', y_train.shape)\n",
    "print('Testing Data Shape   :', X_test.shape)\n",
    "print('Testing Label Shape  :', y_test.shape)"
   ]
  },
  {
   "cell_type": "markdown",
   "metadata": {},
   "source": [
    "### 3. Preprocessing Data"
   ]
  },
  {
   "cell_type": "code",
   "execution_count": 3,
   "metadata": {
    "collapsed": true
   },
   "outputs": [],
   "source": [
    "def convertToGray(input_dataset, output_dataset):\n",
    "    i = 0\n",
    "    for img in input_dataset:\n",
    "        output_dataset[i] = np.dot(img[...,:3], [0.299, 0.587, 0.114])\n",
    "        i += 1    "
   ]
  },
  {
   "cell_type": "code",
   "execution_count": 4,
   "metadata": {},
   "outputs": [
    {
     "name": "stdout",
     "output_type": "stream",
     "text": [
      "Training Data Shape  : (7500, 1024)\n",
      "Training Label Shape : (7500,)\n",
      "Testing Data Shape   : (1500, 1024)\n",
      "Testing Label Shape  : (1500,)\n"
     ]
    }
   ],
   "source": [
    "X_train_gray = np.zeros((X_train.shape[0], X_train.shape[1], X_train.shape[2]))\n",
    "X_test_gray = np.zeros((X_test.shape[0], X_test.shape[1], X_test.shape[2]))\n",
    "\n",
    "# Convert to gray\n",
    "convertToGray(X_train, X_train_gray)\n",
    "convertToGray(X_test, X_test_gray)\n",
    "\n",
    "# Reshape the image data into rows\n",
    "X_train_gray = np.reshape(X_train_gray, (X_train_gray.shape[0], -1)) \n",
    "X_test_gray = np.reshape(X_test_gray, (X_test_gray.shape[0], -1))\n",
    "\n",
    "# Normalize the data\n",
    "X_train_gray = (X_train_gray - 127.5)/255.0\n",
    "X_test_gray = (X_test_gray - 127.5)/255.0\n",
    "\n",
    "# Reshape image label into 1D array\n",
    "y_train = np.ravel(y_train)\n",
    "y_test = np.ravel(y_test)\n",
    "\n",
    "print('Training Data Shape  :', X_train_gray.shape)\n",
    "print('Training Label Shape :', y_train.shape)\n",
    "print('Testing Data Shape   :', X_test_gray.shape)\n",
    "print('Testing Label Shape  :', y_test.shape)"
   ]
  },
  {
   "cell_type": "markdown",
   "metadata": {},
   "source": [
    "### 4. Train the classifier"
   ]
  },
  {
   "cell_type": "code",
   "execution_count": 5,
   "metadata": {},
   "outputs": [
    {
     "name": "stdout",
     "output_type": "stream",
     "text": [
      "Time to train SVM is 91.2649998664856 seconds.\n"
     ]
    }
   ],
   "source": [
    "t1 = time()\n",
    "clf = SVC(C = 1.0, kernel = 'rbf')\n",
    "clf.fit(X_train_gray, y_train)\n",
    "dt = time() - t1\n",
    "print('Time to train SVM is', dt, 'seconds.' )"
   ]
  },
  {
   "cell_type": "markdown",
   "metadata": {},
   "source": [
    "### 5. Accuracy of the classifier"
   ]
  },
  {
   "cell_type": "code",
   "execution_count": 6,
   "metadata": {},
   "outputs": [
    {
     "name": "stdout",
     "output_type": "stream",
     "text": [
      "Accuracy of the SVM classifier is 25.7333333333 %\n"
     ]
    }
   ],
   "source": [
    "acc = clf.score(X_test_gray, y_test)\n",
    "print('Accuracy of the SVM classifier is', acc*100, '%')"
   ]
  }
 ],
 "metadata": {
  "anaconda-cloud": {},
  "kernelspec": {
   "display_name": "Python 3",
   "language": "python",
   "name": "python3"
  },
  "language_info": {
   "codemirror_mode": {
    "name": "ipython",
    "version": 3
   },
   "file_extension": ".py",
   "mimetype": "text/x-python",
   "name": "python",
   "nbconvert_exporter": "python",
   "pygments_lexer": "ipython3",
   "version": "3.6.1"
  }
 },
 "nbformat": 4,
 "nbformat_minor": 1
}
