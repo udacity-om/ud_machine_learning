{
 "cells": [
  {
   "cell_type": "markdown",
   "metadata": {
    "deletable": true,
    "editable": true,
    "nbpresent": {
     "id": "00148eb9-6876-42a8-86f1-b90a80041579"
    }
   },
   "source": [
    "# Machine Learning Capstone Project\n",
    "\n",
    "## Create CIFAR 15"
   ]
  },
  {
   "cell_type": "markdown",
   "metadata": {
    "deletable": true,
    "editable": true
   },
   "source": [
    "### Import required packages"
   ]
  },
  {
   "cell_type": "code",
   "execution_count": 1,
   "metadata": {
    "collapsed": false,
    "deletable": true,
    "editable": true,
    "nbpresent": {
     "id": "596a410f-2302-4cc1-be5e-10b07c42ef1c"
    }
   },
   "outputs": [],
   "source": [
    "import pickle\n",
    "import numpy as np\n",
    "import matplotlib.pyplot as plt\n",
    "import os"
   ]
  },
  {
   "cell_type": "markdown",
   "metadata": {
    "deletable": true,
    "editable": true
   },
   "source": [
    "### Extract CIFAR 100"
   ]
  },
  {
   "cell_type": "code",
   "execution_count": 2,
   "metadata": {
    "collapsed": true,
    "deletable": true,
    "editable": true,
    "nbpresent": {
     "id": "af5b1893-ae13-4de4-b20e-6cd6f345dbfa"
    }
   },
   "outputs": [],
   "source": [
    "def unpickle(file):\n",
    "    with open(file, 'rb') as fo:\n",
    "        dict = pickle.load(fo, encoding='bytes')\n",
    "    return dict"
   ]
  },
  {
   "cell_type": "code",
   "execution_count": 3,
   "metadata": {
    "collapsed": false,
    "deletable": true,
    "editable": true,
    "nbpresent": {
     "id": "79e349b5-7aa1-40f6-8187-22f8fc6fa2b5"
    }
   },
   "outputs": [],
   "source": [
    "cifar_100_meta = unpickle(\"cifar-100-python/meta\")\n",
    "cifar_100_train = unpickle(\"cifar-100-python/train\")\n",
    "cifar_100_test = unpickle(\"cifar-100-python/test\")"
   ]
  },
  {
   "cell_type": "markdown",
   "metadata": {
    "deletable": true,
    "editable": true
   },
   "source": [
    "### Visualize CIFAR 100"
   ]
  },
  {
   "cell_type": "markdown",
   "metadata": {
    "deletable": true,
    "editable": true
   },
   "source": [
    "#### Coarse labels in CIFAR 100"
   ]
  },
  {
   "cell_type": "code",
   "execution_count": 4,
   "metadata": {
    "collapsed": false,
    "deletable": true,
    "editable": true
   },
   "outputs": [
    {
     "name": "stdout",
     "output_type": "stream",
     "text": [
      "***********************CIFAR-100 Superclasses***********************\n",
      " 0 aquatic_mammals                 1 fish                          \n",
      " 2 flowers                         3 food_containers               \n",
      " 4 fruit_and_vegetables            5 household_electrical_devices  \n",
      " 6 household_furniture             7 insects                       \n",
      " 8 large_carnivores                9 large_man-made_outdoor_things \n",
      "10 large_natural_outdoor_scenes   11 large_omnivores_and_herbivores\n",
      "12 medium_mammals                 13 non-insect_invertebrates      \n",
      "14 people                         15 reptiles                      \n",
      "16 small_mammals                  17 trees                         \n",
      "18 vehicles_1                     19 vehicles_2                    \n"
     ]
    }
   ],
   "source": [
    "print(\"***********************CIFAR-100 Superclasses***********************\")\n",
    "for i in range(10):\n",
    "    index = i*2\n",
    "    index1 = index\n",
    "    index2 = index + 1\n",
    "    label1 = cifar_100_meta[b'coarse_label_names'][index1].decode('utf-8')\n",
    "    label2 = cifar_100_meta[b'coarse_label_names'][index2].decode('utf-8')\n",
    "    print('{:2} {:30} {:2} {:30}'.format(index1, label1, index2, label2))"
   ]
  },
  {
   "cell_type": "markdown",
   "metadata": {
    "deletable": true,
    "editable": true
   },
   "source": [
    "#### Fine labels in CIFAR 100"
   ]
  },
  {
   "cell_type": "code",
   "execution_count": 5,
   "metadata": {
    "collapsed": false,
    "deletable": true,
    "editable": true
   },
   "outputs": [
    {
     "name": "stdout",
     "output_type": "stream",
     "text": [
      "************************************CIFAR-100 Classes************************************\n",
      " 0 apple            1 aquarium_fish    2 baby             3 bear             4 beaver         \n",
      " 5 bed              6 bee              7 beetle           8 bicycle          9 bottle         \n",
      "10 bowl            11 boy             12 bridge          13 bus             14 butterfly      \n",
      "15 camel           16 can             17 castle          18 caterpillar     19 cattle         \n",
      "20 chair           21 chimpanzee      22 clock           23 cloud           24 cockroach      \n",
      "25 couch           26 crab            27 crocodile       28 cup             29 dinosaur       \n",
      "30 dolphin         31 elephant        32 flatfish        33 forest          34 fox            \n",
      "35 girl            36 hamster         37 house           38 kangaroo        39 keyboard       \n",
      "40 lamp            41 lawn_mower      42 leopard         43 lion            44 lizard         \n",
      "45 lobster         46 man             47 maple_tree      48 motorcycle      49 mountain       \n",
      "50 mouse           51 mushroom        52 oak_tree        53 orange          54 orchid         \n",
      "55 otter           56 palm_tree       57 pear            58 pickup_truck    59 pine_tree      \n",
      "60 plain           61 plate           62 poppy           63 porcupine       64 possum         \n",
      "65 rabbit          66 raccoon         67 ray             68 road            69 rocket         \n",
      "70 rose            71 sea             72 seal            73 shark           74 shrew          \n",
      "75 skunk           76 skyscraper      77 snail           78 snake           79 spider         \n",
      "80 squirrel        81 streetcar       82 sunflower       83 sweet_pepper    84 table          \n",
      "85 tank            86 telephone       87 television      88 tiger           89 tractor        \n",
      "90 train           91 trout           92 tulip           93 turtle          94 wardrobe       \n",
      "95 whale           96 willow_tree     97 wolf            98 woman           99 worm           \n"
     ]
    }
   ],
   "source": [
    "print(\"************************************CIFAR-100 Classes************************************\")\n",
    "for i in range(20):\n",
    "    index = i*5\n",
    "    index1 = index\n",
    "    index2 = index + 1\n",
    "    index3 = index + 2\n",
    "    index4 = index + 3\n",
    "    index5 = index + 4\n",
    "    label1 = cifar_100_meta[b'fine_label_names'][index1].decode('utf-8')\n",
    "    label2 = cifar_100_meta[b'fine_label_names'][index2].decode('utf-8')\n",
    "    label3 = cifar_100_meta[b'fine_label_names'][index3].decode('utf-8')\n",
    "    label4 = cifar_100_meta[b'fine_label_names'][index4].decode('utf-8')\n",
    "    label5 = cifar_100_meta[b'fine_label_names'][index5].decode('utf-8')\n",
    "    print('{:2} {:15} {:2} {:15} {:2} {:15} {:2} {:15} {:2} {:15}'.format(index1, label1, index2, label2, index3, label3, index4, label4, index5, label5))"
   ]
  },
  {
   "cell_type": "code",
   "execution_count": 6,
   "metadata": {
    "collapsed": true,
    "deletable": true,
    "editable": true
   },
   "outputs": [],
   "source": [
    "def cifar100_plot(data, meta, im_idx=0):\n",
    "    im = data[b'data'][im_idx, :]\n",
    "\n",
    "    im_r = im[0:1024].reshape(32, 32)\n",
    "    im_g = im[1024:2048].reshape(32, 32)\n",
    "    im_b = im[2048:].reshape(32, 32)\n",
    "\n",
    "    img = np.dstack((im_r, im_g, im_b))\n",
    "\n",
    "    print(\"shape: \", img.shape)\n",
    "    print(\"filename: \", data[b'filenames'][im_idx])\n",
    "    print(\"coarse category:\", meta[b'coarse_label_names'][data[b'coarse_labels'][im_idx]])     \n",
    "    print(\"fine category:\", meta[b'fine_label_names'][data[b'fine_labels'][im_idx]])        \n",
    "\n",
    "    plt.imshow(img) \n",
    "    plt.show()"
   ]
  },
  {
   "cell_type": "code",
   "execution_count": 7,
   "metadata": {
    "collapsed": false,
    "deletable": true,
    "editable": true
   },
   "outputs": [
    {
     "name": "stdout",
     "output_type": "stream",
     "text": [
      "shape:  (32, 32, 3)\n",
      "filename:  b'bos_taurus_s_000507.png'\n",
      "coarse category: b'large_omnivores_and_herbivores'\n",
      "fine category: b'cattle'\n"
     ]
    },
    {
     "data": {
      "image/png": "[encoded data removed]",
      "text/plain": [
       "<matplotlib.figure.Figure at 0x7a07080>"
      ]
     },
     "metadata": {},
     "output_type": "display_data"
    }
   ],
   "source": [
    "cifar100_plot(cifar_100_train, cifar_100_meta, 0)"
   ]
  },
  {
   "cell_type": "markdown",
   "metadata": {
    "deletable": true,
    "editable": true
   },
   "source": [
    "### Downselect from CIFAR 100 to create CIFAR 15"
   ]
  },
  {
   "cell_type": "code",
   "execution_count": 8,
   "metadata": {
    "collapsed": false,
    "deletable": true,
    "editable": true
   },
   "outputs": [],
   "source": [
    "cifar_15_meta = {b'coarse_label_names':[b'people', b'vehicles_1', b'vehicles_2'], b'fine_label_names':[b'baby', b'bicycle', b'boy', b'bus', b'girl', b'lawn_mower', b'man', b'motorcycle', b'pickup_truck', b'rocket', b'streetcar', b'tank', b'tractor', b'train', b'woman']}"
   ]
  },
  {
   "cell_type": "markdown",
   "metadata": {
    "deletable": true,
    "editable": true
   },
   "source": [
    "#### Coarse labels in CIFAR 15"
   ]
  },
  {
   "cell_type": "code",
   "execution_count": 9,
   "metadata": {
    "collapsed": false,
    "deletable": true,
    "editable": true
   },
   "outputs": [
    {
     "name": "stdout",
     "output_type": "stream",
     "text": [
      "**CIFAR-15 Superclasses**\n",
      " 0 people                        \n",
      " 1 vehicles_1                    \n",
      " 2 vehicles_2                    \n"
     ]
    }
   ],
   "source": [
    "print(\"**CIFAR-15 Superclasses**\")\n",
    "for i in range(3):\n",
    "    index = i*1\n",
    "    index1 = index\n",
    "    label1 = cifar_15_meta[b'coarse_label_names'][index1].decode('utf-8')\n",
    "    print('{:2} {:30}'.format(index1, label1))"
   ]
  },
  {
   "cell_type": "markdown",
   "metadata": {
    "deletable": true,
    "editable": true
   },
   "source": [
    "#### Fine labels in CIFAR 15"
   ]
  },
  {
   "cell_type": "code",
   "execution_count": 10,
   "metadata": {
    "collapsed": false,
    "deletable": true,
    "editable": true
   },
   "outputs": [
    {
     "name": "stdout",
     "output_type": "stream",
     "text": [
      "*******************CIFAR-15 Classes*******************\n",
      " 0 baby             1 bicycle          2 boy            \n",
      " 3 bus              4 girl             5 lawn_mower     \n",
      " 6 man              7 motorcycle       8 pickup_truck   \n",
      " 9 rocket          10 streetcar       11 tank           \n",
      "12 tractor         13 train           14 woman          \n"
     ]
    }
   ],
   "source": [
    "print(\"*******************CIFAR-15 Classes*******************\")\n",
    "for i in range(5):\n",
    "    index = i*3\n",
    "    index1 = index\n",
    "    index2 = index + 1\n",
    "    index3 = index + 2\n",
    "    label1 = cifar_15_meta[b'fine_label_names'][index1].decode('utf-8')\n",
    "    label2 = cifar_15_meta[b'fine_label_names'][index2].decode('utf-8')\n",
    "    label3 = cifar_15_meta[b'fine_label_names'][index3].decode('utf-8')\n",
    "    print('{:2} {:15} {:2} {:15} {:2} {:15}'.format(index1, label1, index2, label2, index3, label3))"
   ]
  },
  {
   "cell_type": "markdown",
   "metadata": {
    "deletable": true,
    "editable": true
   },
   "source": [
    "#### Map CIFAR 100 labels to CIFAR 15 labels"
   ]
  },
  {
   "cell_type": "code",
   "execution_count": 11,
   "metadata": {
    "collapsed": false,
    "deletable": true,
    "editable": true
   },
   "outputs": [],
   "source": [
    "cifar100_to_cifar15_label_mapping = {b'coarse_label_names':[], b'fine_label_names':[]}\n",
    "for label in cifar_15_meta[b'coarse_label_names']:\n",
    "    cifar100_to_cifar15_label_mapping[b'coarse_label_names'].append(cifar_100_meta[b'coarse_label_names'].index(label))\n",
    "for label in cifar_15_meta[b'fine_label_names']:\n",
    "    cifar100_to_cifar15_label_mapping[b'fine_label_names'].append(cifar_100_meta[b'fine_label_names'].index(label))"
   ]
  },
  {
   "cell_type": "code",
   "execution_count": 12,
   "metadata": {
    "collapsed": true,
    "deletable": true,
    "editable": true,
    "nbpresent": {
     "id": "19b886cb-d45b-4e13-a38b-7fe8f7a42dc6"
    }
   },
   "outputs": [],
   "source": [
    "def findNumOfDownselectedData(data, downselected_labels):\n",
    "    num_of_downselected_data = 0\n",
    "    for label in data[b'coarse_labels']:\n",
    "        if label in downselected_labels:\n",
    "            num_of_downselected_data += 1\n",
    "    return num_of_downselected_data    "
   ]
  },
  {
   "cell_type": "code",
   "execution_count": 13,
   "metadata": {
    "collapsed": true,
    "deletable": true,
    "editable": true,
    "nbpresent": {
     "id": "47841fdd-490e-4b23-a834-f6edfecdfae9"
    }
   },
   "outputs": [],
   "source": [
    "def downselectData(data, label_map):\n",
    "    num_of_downselected_data = findNumOfDownselectedData(data, label_map[b'coarse_label_names'])\n",
    "    downselected_data = {b'filenames':[], b'coarse_labels':[], b'fine_labels':[], b'data':np.empty(shape = (num_of_downselected_data, 3072), dtype=np.uint8)}\n",
    "    src_index = 0\n",
    "    dst_index = 0\n",
    "    for label in data[b'coarse_labels']:\n",
    "        if label in label_map[b'coarse_label_names']:\n",
    "            downselected_data[b'filenames'].append(data[b'filenames'][src_index])\n",
    "            downselected_data[b'coarse_labels'].append(label_map[b'coarse_label_names'].index(data[b'coarse_labels'][src_index]))\n",
    "            downselected_data[b'fine_labels'].append(label_map[b'fine_label_names'].index(data[b'fine_labels'][src_index]))\n",
    "            downselected_data[b'data'][dst_index] = data[b'data'][src_index]\n",
    "            dst_index += 1\n",
    "        src_index += 1\n",
    "            \n",
    "    return downselected_data    "
   ]
  },
  {
   "cell_type": "code",
   "execution_count": 14,
   "metadata": {
    "collapsed": false,
    "deletable": true,
    "editable": true,
    "nbpresent": {
     "id": "d0286c10-3431-43cc-ba4d-5b2bf67943f5"
    }
   },
   "outputs": [],
   "source": [
    "cifar_15_train = downselectData(cifar_100_train, cifar100_to_cifar15_label_mapping)\n",
    "cifar_15_test = downselectData(cifar_100_test, cifar100_to_cifar15_label_mapping)"
   ]
  },
  {
   "cell_type": "markdown",
   "metadata": {
    "deletable": true,
    "editable": true
   },
   "source": [
    "### Visualize CIFAR 15"
   ]
  },
  {
   "cell_type": "code",
   "execution_count": 15,
   "metadata": {
    "collapsed": true,
    "deletable": true,
    "editable": true,
    "nbpresent": {
     "id": "94418b1a-54f7-464d-8b4b-0fcfa12bbeff"
    }
   },
   "outputs": [],
   "source": [
    "def cifar15_plot(data, meta, im_idx=0):\n",
    "    im = data[b'data'][im_idx, :]\n",
    "\n",
    "    im_r = im[0:1024].reshape(32, 32)\n",
    "    im_g = im[1024:2048].reshape(32, 32)\n",
    "    im_b = im[2048:].reshape(32, 32)\n",
    "\n",
    "    img = np.dstack((im_r, im_g, im_b))\n",
    "\n",
    "    print(\"shape: \", img.shape)\n",
    "    print(\"filename: \", data[b'filenames'][im_idx])\n",
    "    print(\"coarse category:\", meta[b'coarse_label_names'][data[b'coarse_labels'][im_idx]])     \n",
    "    print(\"fine category:\", meta[b'fine_label_names'][data[b'fine_labels'][im_idx]])        \n",
    "\n",
    "    plt.imshow(img) \n",
    "    plt.show()"
   ]
  },
  {
   "cell_type": "code",
   "execution_count": 16,
   "metadata": {
    "collapsed": false,
    "deletable": true,
    "editable": true,
    "nbpresent": {
     "id": "1d5a20de-1f26-46c9-9fe9-394c15ded83c"
    }
   },
   "outputs": [
    {
     "name": "stdout",
     "output_type": "stream",
     "text": [
      "shape:  (32, 32, 3)\n",
      "filename:  b'pickup_truck_s_000629.png'\n",
      "coarse category: b'vehicles_1'\n",
      "fine category: b'pickup_truck'\n"
     ]
    },
    {
     "data": {
      "image/png": "[encoded data removed]",
      "text/plain": [
       "<matplotlib.figure.Figure at 0x7af3c18>"
      ]
     },
     "metadata": {},
     "output_type": "display_data"
    }
   ],
   "source": [
    "cifar15_plot(cifar_15_train, cifar_15_meta, 400)"
   ]
  },
  {
   "cell_type": "markdown",
   "metadata": {
    "deletable": true,
    "editable": true
   },
   "source": [
    "### Save CIFAR 15"
   ]
  },
  {
   "cell_type": "code",
   "execution_count": 17,
   "metadata": {
    "collapsed": false,
    "deletable": true,
    "editable": true,
    "nbpresent": {
     "id": "e19d33c0-f69d-4904-8282-881edf4b1ded"
    }
   },
   "outputs": [],
   "source": [
    "def saveData(data, directory, filename):\n",
    "    if not os.path.exists(directory):\n",
    "        os.makedirs(directory)\n",
    "    fname = os.path.join(directory, filename)\n",
    "    with open(fname, 'wb') as f:\n",
    "        pickle.dump(data, f)"
   ]
  },
  {
   "cell_type": "code",
   "execution_count": 18,
   "metadata": {
    "collapsed": true,
    "deletable": true,
    "editable": true
   },
   "outputs": [],
   "source": [
    "saveData(cifar_15_train, 'cifar-15-python', 'train')\n",
    "saveData(cifar_15_test, 'cifar-15-python', 'test')\n",
    "saveData(cifar_15_meta, 'cifar-15-python', 'meta')"
   ]
  }
 ],
 "metadata": {
  "anaconda-cloud": {},
  "kernelspec": {
   "display_name": "Python 3",
   "language": "python",
   "name": "python3"
  },
  "language_info": {
   "codemirror_mode": {
    "name": "ipython",
    "version": 3
   },
   "file_extension": ".py",
   "mimetype": "text/x-python",
   "name": "python",
   "nbconvert_exporter": "python",
   "pygments_lexer": "ipython3",
   "version": "3.5.3"
  }
 },
 "nbformat": 4,
 "nbformat_minor": 1
}
